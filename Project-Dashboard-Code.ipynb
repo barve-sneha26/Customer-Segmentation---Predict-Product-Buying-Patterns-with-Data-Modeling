{
 "cells": [
  {
   "cell_type": "code",
   "execution_count": 1,
   "id": "0f8137a8",
   "metadata": {},
   "outputs": [],
   "source": [
    "import pandas as pd\n",
    "import numpy as np\n",
    "import matplotlib.pyplot as plt\n",
    "import matplotlib.dates as mdates\n",
    "import seaborn as sns\n",
    "import statsmodels.api as smf\n",
    "\n",
    "from sklearn.model_selection import train_test_split, cross_val_score\n",
    "from sklearn.preprocessing import LabelEncoder, StandardScaler\n",
    "from sklearn.metrics import classification_report, confusion_matrix, accuracy_score, silhouette_score, mean_squared_error, r2_score\n",
    "\n",
    "from sklearn import datasets, linear_model\n",
    "from sklearn.linear_model import LogisticRegression\n",
    "from sklearn.neighbors import KNeighborsClassifier\n",
    "from sklearn.tree import DecisionTreeClassifier, DecisionTreeRegressor\n",
    "from sklearn.ensemble import GradientBoostingClassifier, RandomForestClassifier\n",
    "from sklearn import svm\n",
    "from sklearn.neural_network import MLPClassifier"
   ]
  },
  {
   "cell_type": "code",
   "execution_count": 2,
   "id": "87323328",
   "metadata": {},
   "outputs": [
    {
     "name": "stderr",
     "output_type": "stream",
     "text": [
      "/var/folders/z0/1lvzp4dd72db228qrnnqk0q80000gn/T/ipykernel_79473/1436067495.py:10: DtypeWarning: Columns (9) have mixed types. Specify dtype option on import or set low_memory=False.\n",
      "  eShop2022 = pd.read_csv('2022_eShop.csv')\n"
     ]
    }
   ],
   "source": [
    "eShop2022 = pd.read_csv('2022_eShop.csv')\n",
    "eShop2023 = pd.read_csv('2023_eShop.csv')\n",
    "eShop2024 = pd.read_csv('2024_eShop.csv')\n",
    "\n",
    "Non_eShop2022 = pd.read_csv('2022_non-eShop.csv')\n",
    "Non_eShop2023 = pd.read_csv('2023_non-eShop.csv')\n",
    "Non_eShop2024 = pd.read_csv('2024_non-eShop.csv')"
   ]
  },
  {
   "cell_type": "code",
   "execution_count": 3,
   "id": "31bbe6af",
   "metadata": {},
   "outputs": [
    {
     "data": {
      "text/html": [
       "<div>\n",
       "<style scoped>\n",
       "    .dataframe tbody tr th:only-of-type {\n",
       "        vertical-align: middle;\n",
       "    }\n",
       "\n",
       "    .dataframe tbody tr th {\n",
       "        vertical-align: top;\n",
       "    }\n",
       "\n",
       "    .dataframe thead th {\n",
       "        text-align: right;\n",
       "    }\n",
       "</style>\n",
       "<table border=\"1\" class=\"dataframe\">\n",
       "  <thead>\n",
       "    <tr style=\"text-align: right;\">\n",
       "      <th></th>\n",
       "      <th>order_date</th>\n",
       "      <th>order_number</th>\n",
       "      <th>material_number</th>\n",
       "      <th>order_material_net_value</th>\n",
       "      <th>sales_channel</th>\n",
       "      <th>PRH1</th>\n",
       "      <th>PRH4</th>\n",
       "      <th>customer_group</th>\n",
       "      <th>customer_number</th>\n",
       "      <th>region</th>\n",
       "      <th>DSO_Ind</th>\n",
       "    </tr>\n",
       "  </thead>\n",
       "  <tbody>\n",
       "    <tr>\n",
       "      <th>0</th>\n",
       "      <td>2022-05-12</td>\n",
       "      <td>112140438</td>\n",
       "      <td>034.053V4</td>\n",
       "      <td>40.30</td>\n",
       "      <td>eShop</td>\n",
       "      <td>Implant Solutions</td>\n",
       "      <td>Instruments, Cases + Others</td>\n",
       "      <td>University</td>\n",
       "      <td>30303430353030353632</td>\n",
       "      <td>NaN</td>\n",
       "      <td>Non-DSO</td>\n",
       "    </tr>\n",
       "    <tr>\n",
       "      <th>1</th>\n",
       "      <td>2022-11-28</td>\n",
       "      <td>112656875</td>\n",
       "      <td>109.945</td>\n",
       "      <td>1559.51</td>\n",
       "      <td>eShop</td>\n",
       "      <td>Implant Solutions</td>\n",
       "      <td>BLAT Ti Implants, standard</td>\n",
       "      <td>General dentist</td>\n",
       "      <td>30303430363032353236</td>\n",
       "      <td>NaN</td>\n",
       "      <td>DSO</td>\n",
       "    </tr>\n",
       "    <tr>\n",
       "      <th>2</th>\n",
       "      <td>2022-01-31</td>\n",
       "      <td>111858749</td>\n",
       "      <td>118.357</td>\n",
       "      <td>211.11</td>\n",
       "      <td>eShop</td>\n",
       "      <td>Restorative Solutions</td>\n",
       "      <td>Other Prosthetics</td>\n",
       "      <td>Laboratory</td>\n",
       "      <td>30303430353039373330</td>\n",
       "      <td>NaN</td>\n",
       "      <td>Non-DSO</td>\n",
       "    </tr>\n",
       "    <tr>\n",
       "      <th>3</th>\n",
       "      <td>2022-02-28</td>\n",
       "      <td>111935927</td>\n",
       "      <td>024.0008S</td>\n",
       "      <td>39.19</td>\n",
       "      <td>eShop</td>\n",
       "      <td>Implant Solutions</td>\n",
       "      <td>BL Healing Surgical</td>\n",
       "      <td>Periodontist</td>\n",
       "      <td>30303430353239323337</td>\n",
       "      <td>NaN</td>\n",
       "      <td>Non-DSO</td>\n",
       "    </tr>\n",
       "    <tr>\n",
       "      <th>4</th>\n",
       "      <td>2022-02-01</td>\n",
       "      <td>111861821</td>\n",
       "      <td>025.2205</td>\n",
       "      <td>58.21</td>\n",
       "      <td>eShop</td>\n",
       "      <td>Restorative Solutions</td>\n",
       "      <td>Other Prosthetics</td>\n",
       "      <td>General dentist</td>\n",
       "      <td>30303430363233343333</td>\n",
       "      <td>NaN</td>\n",
       "      <td>Non-DSO</td>\n",
       "    </tr>\n",
       "  </tbody>\n",
       "</table>\n",
       "</div>"
      ],
      "text/plain": [
       "   order_date  order_number material_number  order_material_net_value  \\\n",
       "0  2022-05-12     112140438       034.053V4                     40.30   \n",
       "1  2022-11-28     112656875         109.945                   1559.51   \n",
       "2  2022-01-31     111858749         118.357                    211.11   \n",
       "3  2022-02-28     111935927       024.0008S                     39.19   \n",
       "4  2022-02-01     111861821        025.2205                     58.21   \n",
       "\n",
       "  sales_channel                   PRH1                         PRH4  \\\n",
       "0         eShop      Implant Solutions  Instruments, Cases + Others   \n",
       "1         eShop      Implant Solutions   BLAT Ti Implants, standard   \n",
       "2         eShop  Restorative Solutions            Other Prosthetics   \n",
       "3         eShop      Implant Solutions          BL Healing Surgical   \n",
       "4         eShop  Restorative Solutions            Other Prosthetics   \n",
       "\n",
       "    customer_group       customer_number region  DSO_Ind  \n",
       "0       University  30303430353030353632    NaN  Non-DSO  \n",
       "1  General dentist  30303430363032353236    NaN      DSO  \n",
       "2       Laboratory  30303430353039373330    NaN  Non-DSO  \n",
       "3     Periodontist  30303430353239323337    NaN  Non-DSO  \n",
       "4  General dentist  30303430363233343333    NaN  Non-DSO  "
      ]
     },
     "execution_count": 3,
     "metadata": {},
     "output_type": "execute_result"
    }
   ],
   "source": [
    "# Concat the 'df1', 'df2' and 'df3' dataframes and create single dataframe named as 'df'\n",
    "df = pd.concat([eShop2022,eShop2023,eShop2024,Non_eShop2022,Non_eShop2023,Non_eShop2024])\n",
    "df.head()"
   ]
  },
  {
   "cell_type": "markdown",
   "id": "216e144c",
   "metadata": {},
   "source": [
    "# Data Cleaning and Pre Processing:"
   ]
  },
  {
   "cell_type": "code",
   "execution_count": 4,
   "id": "d186cedc",
   "metadata": {},
   "outputs": [
    {
     "data": {
      "text/plain": [
       "order_date                   object\n",
       "order_number                  int64\n",
       "material_number              object\n",
       "order_material_net_value    float64\n",
       "sales_channel                object\n",
       "PRH1                         object\n",
       "PRH4                         object\n",
       "customer_group               object\n",
       "customer_number              object\n",
       "region                       object\n",
       "DSO_Ind                      object\n",
       "dtype: object"
      ]
     },
     "execution_count": 4,
     "metadata": {},
     "output_type": "execute_result"
    }
   ],
   "source": [
    "# Check for data types:\n",
    "df.dtypes"
   ]
  },
  {
   "cell_type": "code",
   "execution_count": 5,
   "id": "d78e3ce2",
   "metadata": {},
   "outputs": [
    {
     "name": "stdout",
     "output_type": "stream",
     "text": [
      "datetime64[ns]\n"
     ]
    }
   ],
   "source": [
    "# Correct Date Format:\n",
    "df['order_date'] = pd.to_datetime(df['order_date'], format='%Y-%m-%d')\n",
    "print(df['order_date'].dtype)"
   ]
  },
  {
   "cell_type": "code",
   "execution_count": 6,
   "id": "befa733c",
   "metadata": {},
   "outputs": [
    {
     "data": {
      "text/plain": [
       "order_date                        0\n",
       "order_number                      0\n",
       "material_number                   0\n",
       "order_material_net_value          0\n",
       "sales_channel                     0\n",
       "PRH1                              0\n",
       "PRH4                            219\n",
       "customer_group                21563\n",
       "customer_number                   0\n",
       "region                      1504522\n",
       "DSO_Ind                           0\n",
       "dtype: int64"
      ]
     },
     "execution_count": 6,
     "metadata": {},
     "output_type": "execute_result"
    }
   ],
   "source": [
    "# Detecting Missing Values\n",
    "df.isnull().sum()"
   ]
  },
  {
   "cell_type": "code",
   "execution_count": 7,
   "id": "c634370f",
   "metadata": {},
   "outputs": [],
   "source": [
    "# Drop Missing Values:\n",
    "df = df.dropna()"
   ]
  },
  {
   "cell_type": "markdown",
   "id": "0005452f",
   "metadata": {},
   "source": [
    "# Dashboard"
   ]
  },
  {
   "cell_type": "code",
   "execution_count": 8,
   "id": "590684fc",
   "metadata": {},
   "outputs": [
    {
     "name": "stderr",
     "output_type": "stream",
     "text": [
      "nodename nor servname provided, or not known\n"
     ]
    },
    {
     "ename": "AttributeError",
     "evalue": "'tuple' object has no attribute 'tb_frame'",
     "output_type": "error",
     "traceback": [
      "\u001b[0;31m---------------------------------------------------------------------------\u001b[0m",
      "\u001b[0;31mgaierror\u001b[0m                                  Traceback (most recent call last)",
      "File \u001b[0;32m~/anaconda3/lib/python3.11/site-packages/werkzeug/serving.py:710\u001b[0m, in \u001b[0;36mBaseWSGIServer.__init__\u001b[0;34m(self, host, port, app, handler, passthrough_errors, ssl_context, fd)\u001b[0m\n\u001b[1;32m    709\u001b[0m \u001b[38;5;28;01mtry\u001b[39;00m:\n\u001b[0;32m--> 710\u001b[0m     \u001b[38;5;28mself\u001b[39m\u001b[38;5;241m.\u001b[39mserver_bind()\n\u001b[1;32m    711\u001b[0m     \u001b[38;5;28mself\u001b[39m\u001b[38;5;241m.\u001b[39mserver_activate()\n",
      "File \u001b[0;32m~/anaconda3/lib/python3.11/http/server.py:136\u001b[0m, in \u001b[0;36mHTTPServer.server_bind\u001b[0;34m(self)\u001b[0m\n\u001b[1;32m    135\u001b[0m \u001b[38;5;250m\u001b[39m\u001b[38;5;124;03m\"\"\"Override server_bind to store the server name.\"\"\"\u001b[39;00m\n\u001b[0;32m--> 136\u001b[0m socketserver\u001b[38;5;241m.\u001b[39mTCPServer\u001b[38;5;241m.\u001b[39mserver_bind(\u001b[38;5;28mself\u001b[39m)\n\u001b[1;32m    137\u001b[0m host, port \u001b[38;5;241m=\u001b[39m \u001b[38;5;28mself\u001b[39m\u001b[38;5;241m.\u001b[39mserver_address[:\u001b[38;5;241m2\u001b[39m]\n",
      "File \u001b[0;32m~/anaconda3/lib/python3.11/socketserver.py:472\u001b[0m, in \u001b[0;36mTCPServer.server_bind\u001b[0;34m(self)\u001b[0m\n\u001b[1;32m    471\u001b[0m     \u001b[38;5;28mself\u001b[39m\u001b[38;5;241m.\u001b[39msocket\u001b[38;5;241m.\u001b[39msetsockopt(socket\u001b[38;5;241m.\u001b[39mSOL_SOCKET, socket\u001b[38;5;241m.\u001b[39mSO_REUSEPORT, \u001b[38;5;241m1\u001b[39m)\n\u001b[0;32m--> 472\u001b[0m \u001b[38;5;28mself\u001b[39m\u001b[38;5;241m.\u001b[39msocket\u001b[38;5;241m.\u001b[39mbind(\u001b[38;5;28mself\u001b[39m\u001b[38;5;241m.\u001b[39mserver_address)\n\u001b[1;32m    473\u001b[0m \u001b[38;5;28mself\u001b[39m\u001b[38;5;241m.\u001b[39mserver_address \u001b[38;5;241m=\u001b[39m \u001b[38;5;28mself\u001b[39m\u001b[38;5;241m.\u001b[39msocket\u001b[38;5;241m.\u001b[39mgetsockname()\n",
      "\u001b[0;31mgaierror\u001b[0m: [Errno 8] nodename nor servname provided, or not known",
      "\nDuring handling of the above exception, another exception occurred:\n",
      "\u001b[0;31mSystemExit\u001b[0m                                Traceback (most recent call last)",
      "    \u001b[0;31m[... skipping hidden 1 frame]\u001b[0m\n",
      "Cell \u001b[0;32mIn[8], line 113\u001b[0m\n\u001b[1;32m    112\u001b[0m \u001b[38;5;28;01mif\u001b[39;00m \u001b[38;5;18m__name__\u001b[39m \u001b[38;5;241m==\u001b[39m \u001b[38;5;124m'\u001b[39m\u001b[38;5;124m__main__\u001b[39m\u001b[38;5;124m'\u001b[39m:\n\u001b[0;32m--> 113\u001b[0m     app\u001b[38;5;241m.\u001b[39mrun_server(debug\u001b[38;5;241m=\u001b[39m\u001b[38;5;28;01mTrue\u001b[39;00m)\n",
      "File \u001b[0;32m~/.local/lib/python3.11/site-packages/dash/dash.py:2175\u001b[0m, in \u001b[0;36mDash.run_server\u001b[0;34m(self, *args, **kwargs)\u001b[0m\n\u001b[1;32m   2170\u001b[0m \u001b[38;5;250m\u001b[39m\u001b[38;5;124;03m\"\"\"`run_server` is a deprecated alias of `run` and may be removed in a\u001b[39;00m\n\u001b[1;32m   2171\u001b[0m \u001b[38;5;124;03mfuture version. We recommend using `app.run` instead.\u001b[39;00m\n\u001b[1;32m   2172\u001b[0m \n\u001b[1;32m   2173\u001b[0m \u001b[38;5;124;03mSee `app.run` for usage information.\u001b[39;00m\n\u001b[1;32m   2174\u001b[0m \u001b[38;5;124;03m\"\"\"\u001b[39;00m\n\u001b[0;32m-> 2175\u001b[0m \u001b[38;5;28mself\u001b[39m\u001b[38;5;241m.\u001b[39mrun(\u001b[38;5;241m*\u001b[39margs, \u001b[38;5;241m*\u001b[39m\u001b[38;5;241m*\u001b[39mkwargs)\n",
      "File \u001b[0;32m~/.local/lib/python3.11/site-packages/dash/dash.py:2066\u001b[0m, in \u001b[0;36mDash.run\u001b[0;34m(self, host, port, proxy, debug, jupyter_mode, jupyter_width, jupyter_height, jupyter_server_url, dev_tools_ui, dev_tools_props_check, dev_tools_serve_dev_bundles, dev_tools_hot_reload, dev_tools_hot_reload_interval, dev_tools_hot_reload_watch_interval, dev_tools_hot_reload_max_retry, dev_tools_silence_routes_logging, dev_tools_prune_errors, **flask_run_options)\u001b[0m\n\u001b[1;32m   2065\u001b[0m \u001b[38;5;28;01mif\u001b[39;00m jupyter_dash\u001b[38;5;241m.\u001b[39mactive:\n\u001b[0;32m-> 2066\u001b[0m     jupyter_dash\u001b[38;5;241m.\u001b[39mrun_app(\n\u001b[1;32m   2067\u001b[0m         \u001b[38;5;28mself\u001b[39m,\n\u001b[1;32m   2068\u001b[0m         mode\u001b[38;5;241m=\u001b[39mjupyter_mode,\n\u001b[1;32m   2069\u001b[0m         width\u001b[38;5;241m=\u001b[39mjupyter_width,\n\u001b[1;32m   2070\u001b[0m         height\u001b[38;5;241m=\u001b[39mjupyter_height,\n\u001b[1;32m   2071\u001b[0m         host\u001b[38;5;241m=\u001b[39mhost,\n\u001b[1;32m   2072\u001b[0m         port\u001b[38;5;241m=\u001b[39mport,\n\u001b[1;32m   2073\u001b[0m         server_url\u001b[38;5;241m=\u001b[39mjupyter_server_url,\n\u001b[1;32m   2074\u001b[0m     )\n\u001b[1;32m   2075\u001b[0m \u001b[38;5;28;01melse\u001b[39;00m:\n",
      "File \u001b[0;32m~/.local/lib/python3.11/site-packages/dash/_jupyter.py:329\u001b[0m, in \u001b[0;36mJupyterDash.run_app\u001b[0;34m(self, app, mode, width, height, host, port, server_url)\u001b[0m\n\u001b[1;32m    327\u001b[0m err_q \u001b[38;5;241m=\u001b[39m queue\u001b[38;5;241m.\u001b[39mQueue()\n\u001b[0;32m--> 329\u001b[0m server \u001b[38;5;241m=\u001b[39m make_server(host, port, app\u001b[38;5;241m.\u001b[39mserver, threaded\u001b[38;5;241m=\u001b[39m\u001b[38;5;28;01mTrue\u001b[39;00m, processes\u001b[38;5;241m=\u001b[39m\u001b[38;5;241m0\u001b[39m)\n\u001b[1;32m    330\u001b[0m logging\u001b[38;5;241m.\u001b[39mgetLogger(\u001b[38;5;124m\"\u001b[39m\u001b[38;5;124mwerkzeug\u001b[39m\u001b[38;5;124m\"\u001b[39m)\u001b[38;5;241m.\u001b[39msetLevel(logging\u001b[38;5;241m.\u001b[39mERROR)\n",
      "File \u001b[0;32m~/anaconda3/lib/python3.11/site-packages/werkzeug/serving.py:877\u001b[0m, in \u001b[0;36mmake_server\u001b[0;34m(host, port, app, threaded, processes, request_handler, passthrough_errors, ssl_context, fd)\u001b[0m\n\u001b[1;32m    876\u001b[0m \u001b[38;5;28;01mif\u001b[39;00m threaded:\n\u001b[0;32m--> 877\u001b[0m     \u001b[38;5;28;01mreturn\u001b[39;00m ThreadedWSGIServer(\n\u001b[1;32m    878\u001b[0m         host, port, app, request_handler, passthrough_errors, ssl_context, fd\u001b[38;5;241m=\u001b[39mfd\n\u001b[1;32m    879\u001b[0m     )\n\u001b[1;32m    881\u001b[0m \u001b[38;5;28;01mif\u001b[39;00m processes \u001b[38;5;241m>\u001b[39m \u001b[38;5;241m1\u001b[39m:\n",
      "File \u001b[0;32m~/anaconda3/lib/python3.11/site-packages/werkzeug/serving.py:733\u001b[0m, in \u001b[0;36mBaseWSGIServer.__init__\u001b[0;34m(self, host, port, app, handler, passthrough_errors, ssl_context, fd)\u001b[0m\n\u001b[1;32m    727\u001b[0m             \u001b[38;5;28mprint\u001b[39m(\n\u001b[1;32m    728\u001b[0m                 \u001b[38;5;124m\"\u001b[39m\u001b[38;5;124mOn macOS, try disabling the \u001b[39m\u001b[38;5;124m'\u001b[39m\u001b[38;5;124mAirPlay Receiver\u001b[39m\u001b[38;5;124m'\u001b[39m\u001b[38;5;124m service\u001b[39m\u001b[38;5;124m\"\u001b[39m\n\u001b[1;32m    729\u001b[0m                 \u001b[38;5;124m\"\u001b[39m\u001b[38;5;124m from System Preferences -> Sharing.\u001b[39m\u001b[38;5;124m\"\u001b[39m,\n\u001b[1;32m    730\u001b[0m                 file\u001b[38;5;241m=\u001b[39msys\u001b[38;5;241m.\u001b[39mstderr,\n\u001b[1;32m    731\u001b[0m             )\n\u001b[0;32m--> 733\u001b[0m     sys\u001b[38;5;241m.\u001b[39mexit(\u001b[38;5;241m1\u001b[39m)\n\u001b[1;32m    734\u001b[0m \u001b[38;5;28;01mexcept\u001b[39;00m \u001b[38;5;167;01mBaseException\u001b[39;00m:\n",
      "\u001b[0;31mSystemExit\u001b[0m: 1",
      "\nDuring handling of the above exception, another exception occurred:\n",
      "\u001b[0;31mAttributeError\u001b[0m                            Traceback (most recent call last)",
      "    \u001b[0;31m[... skipping hidden 1 frame]\u001b[0m\n",
      "File \u001b[0;32m~/anaconda3/lib/python3.11/site-packages/IPython/core/interactiveshell.py:2092\u001b[0m, in \u001b[0;36mInteractiveShell.showtraceback\u001b[0;34m(self, exc_tuple, filename, tb_offset, exception_only, running_compiled_code)\u001b[0m\n\u001b[1;32m   2089\u001b[0m \u001b[38;5;28;01mif\u001b[39;00m exception_only:\n\u001b[1;32m   2090\u001b[0m     stb \u001b[38;5;241m=\u001b[39m [\u001b[38;5;124m'\u001b[39m\u001b[38;5;124mAn exception has occurred, use \u001b[39m\u001b[38;5;124m%\u001b[39m\u001b[38;5;124mtb to see \u001b[39m\u001b[38;5;124m'\u001b[39m\n\u001b[1;32m   2091\u001b[0m            \u001b[38;5;124m'\u001b[39m\u001b[38;5;124mthe full traceback.\u001b[39m\u001b[38;5;130;01m\\n\u001b[39;00m\u001b[38;5;124m'\u001b[39m]\n\u001b[0;32m-> 2092\u001b[0m     stb\u001b[38;5;241m.\u001b[39mextend(\u001b[38;5;28mself\u001b[39m\u001b[38;5;241m.\u001b[39mInteractiveTB\u001b[38;5;241m.\u001b[39mget_exception_only(etype,\n\u001b[1;32m   2093\u001b[0m                                                      value))\n\u001b[1;32m   2094\u001b[0m \u001b[38;5;28;01melse\u001b[39;00m:\n\u001b[1;32m   2095\u001b[0m     \u001b[38;5;28;01mtry\u001b[39;00m:\n\u001b[1;32m   2096\u001b[0m         \u001b[38;5;66;03m# Exception classes can customise their traceback - we\u001b[39;00m\n\u001b[1;32m   2097\u001b[0m         \u001b[38;5;66;03m# use this in IPython.parallel for exceptions occurring\u001b[39;00m\n\u001b[1;32m   2098\u001b[0m         \u001b[38;5;66;03m# in the engines. This should return a list of strings.\u001b[39;00m\n",
      "File \u001b[0;32m~/anaconda3/lib/python3.11/site-packages/IPython/core/ultratb.py:644\u001b[0m, in \u001b[0;36mListTB.get_exception_only\u001b[0;34m(self, etype, value)\u001b[0m\n\u001b[1;32m    636\u001b[0m \u001b[38;5;28;01mdef\u001b[39;00m \u001b[38;5;21mget_exception_only\u001b[39m(\u001b[38;5;28mself\u001b[39m, etype, value):\n\u001b[1;32m    637\u001b[0m \u001b[38;5;250m    \u001b[39m\u001b[38;5;124;03m\"\"\"Only print the exception type and message, without a traceback.\u001b[39;00m\n\u001b[1;32m    638\u001b[0m \n\u001b[1;32m    639\u001b[0m \u001b[38;5;124;03m    Parameters\u001b[39;00m\n\u001b[0;32m   (...)\u001b[0m\n\u001b[1;32m    642\u001b[0m \u001b[38;5;124;03m    value : exception value\u001b[39;00m\n\u001b[1;32m    643\u001b[0m \u001b[38;5;124;03m    \"\"\"\u001b[39;00m\n\u001b[0;32m--> 644\u001b[0m     \u001b[38;5;28;01mreturn\u001b[39;00m ListTB\u001b[38;5;241m.\u001b[39mstructured_traceback(\u001b[38;5;28mself\u001b[39m, etype, value)\n",
      "File \u001b[0;32m~/anaconda3/lib/python3.11/site-packages/IPython/core/ultratb.py:511\u001b[0m, in \u001b[0;36mListTB.structured_traceback\u001b[0;34m(self, etype, evalue, etb, tb_offset, context)\u001b[0m\n\u001b[1;32m    508\u001b[0m     chained_exc_ids\u001b[38;5;241m.\u001b[39madd(\u001b[38;5;28mid\u001b[39m(exception[\u001b[38;5;241m1\u001b[39m]))\n\u001b[1;32m    509\u001b[0m     chained_exceptions_tb_offset \u001b[38;5;241m=\u001b[39m \u001b[38;5;241m0\u001b[39m\n\u001b[1;32m    510\u001b[0m     out_list \u001b[38;5;241m=\u001b[39m (\n\u001b[0;32m--> 511\u001b[0m         \u001b[38;5;28mself\u001b[39m\u001b[38;5;241m.\u001b[39mstructured_traceback(\n\u001b[1;32m    512\u001b[0m             etype, evalue, (etb, chained_exc_ids),\n\u001b[1;32m    513\u001b[0m             chained_exceptions_tb_offset, context)\n\u001b[1;32m    514\u001b[0m         \u001b[38;5;241m+\u001b[39m chained_exception_message\n\u001b[1;32m    515\u001b[0m         \u001b[38;5;241m+\u001b[39m out_list)\n\u001b[1;32m    517\u001b[0m \u001b[38;5;28;01mreturn\u001b[39;00m out_list\n",
      "File \u001b[0;32m~/anaconda3/lib/python3.11/site-packages/IPython/core/ultratb.py:1310\u001b[0m, in \u001b[0;36mAutoFormattedTB.structured_traceback\u001b[0;34m(self, etype, value, tb, tb_offset, number_of_lines_of_context)\u001b[0m\n\u001b[1;32m   1308\u001b[0m \u001b[38;5;28;01melse\u001b[39;00m:\n\u001b[1;32m   1309\u001b[0m     \u001b[38;5;28mself\u001b[39m\u001b[38;5;241m.\u001b[39mtb \u001b[38;5;241m=\u001b[39m tb\n\u001b[0;32m-> 1310\u001b[0m \u001b[38;5;28;01mreturn\u001b[39;00m FormattedTB\u001b[38;5;241m.\u001b[39mstructured_traceback(\n\u001b[1;32m   1311\u001b[0m     \u001b[38;5;28mself\u001b[39m, etype, value, tb, tb_offset, number_of_lines_of_context)\n",
      "File \u001b[0;32m~/anaconda3/lib/python3.11/site-packages/IPython/core/ultratb.py:1199\u001b[0m, in \u001b[0;36mFormattedTB.structured_traceback\u001b[0;34m(self, etype, value, tb, tb_offset, number_of_lines_of_context)\u001b[0m\n\u001b[1;32m   1196\u001b[0m mode \u001b[38;5;241m=\u001b[39m \u001b[38;5;28mself\u001b[39m\u001b[38;5;241m.\u001b[39mmode\n\u001b[1;32m   1197\u001b[0m \u001b[38;5;28;01mif\u001b[39;00m mode \u001b[38;5;129;01min\u001b[39;00m \u001b[38;5;28mself\u001b[39m\u001b[38;5;241m.\u001b[39mverbose_modes:\n\u001b[1;32m   1198\u001b[0m     \u001b[38;5;66;03m# Verbose modes need a full traceback\u001b[39;00m\n\u001b[0;32m-> 1199\u001b[0m     \u001b[38;5;28;01mreturn\u001b[39;00m VerboseTB\u001b[38;5;241m.\u001b[39mstructured_traceback(\n\u001b[1;32m   1200\u001b[0m         \u001b[38;5;28mself\u001b[39m, etype, value, tb, tb_offset, number_of_lines_of_context\n\u001b[1;32m   1201\u001b[0m     )\n\u001b[1;32m   1202\u001b[0m \u001b[38;5;28;01melif\u001b[39;00m mode \u001b[38;5;241m==\u001b[39m \u001b[38;5;124m'\u001b[39m\u001b[38;5;124mMinimal\u001b[39m\u001b[38;5;124m'\u001b[39m:\n\u001b[1;32m   1203\u001b[0m     \u001b[38;5;28;01mreturn\u001b[39;00m ListTB\u001b[38;5;241m.\u001b[39mget_exception_only(\u001b[38;5;28mself\u001b[39m, etype, value)\n",
      "File \u001b[0;32m~/anaconda3/lib/python3.11/site-packages/IPython/core/ultratb.py:1052\u001b[0m, in \u001b[0;36mVerboseTB.structured_traceback\u001b[0;34m(self, etype, evalue, etb, tb_offset, number_of_lines_of_context)\u001b[0m\n\u001b[1;32m   1043\u001b[0m \u001b[38;5;28;01mdef\u001b[39;00m \u001b[38;5;21mstructured_traceback\u001b[39m(\n\u001b[1;32m   1044\u001b[0m     \u001b[38;5;28mself\u001b[39m,\n\u001b[1;32m   1045\u001b[0m     etype: \u001b[38;5;28mtype\u001b[39m,\n\u001b[0;32m   (...)\u001b[0m\n\u001b[1;32m   1049\u001b[0m     number_of_lines_of_context: \u001b[38;5;28mint\u001b[39m \u001b[38;5;241m=\u001b[39m \u001b[38;5;241m5\u001b[39m,\n\u001b[1;32m   1050\u001b[0m ):\n\u001b[1;32m   1051\u001b[0m \u001b[38;5;250m    \u001b[39m\u001b[38;5;124;03m\"\"\"Return a nice text document describing the traceback.\"\"\"\u001b[39;00m\n\u001b[0;32m-> 1052\u001b[0m     formatted_exception \u001b[38;5;241m=\u001b[39m \u001b[38;5;28mself\u001b[39m\u001b[38;5;241m.\u001b[39mformat_exception_as_a_whole(etype, evalue, etb, number_of_lines_of_context,\n\u001b[1;32m   1053\u001b[0m                                                            tb_offset)\n\u001b[1;32m   1055\u001b[0m     colors \u001b[38;5;241m=\u001b[39m \u001b[38;5;28mself\u001b[39m\u001b[38;5;241m.\u001b[39mColors  \u001b[38;5;66;03m# just a shorthand + quicker name lookup\u001b[39;00m\n\u001b[1;32m   1056\u001b[0m     colorsnormal \u001b[38;5;241m=\u001b[39m colors\u001b[38;5;241m.\u001b[39mNormal  \u001b[38;5;66;03m# used a lot\u001b[39;00m\n",
      "File \u001b[0;32m~/anaconda3/lib/python3.11/site-packages/IPython/core/ultratb.py:953\u001b[0m, in \u001b[0;36mVerboseTB.format_exception_as_a_whole\u001b[0;34m(self, etype, evalue, etb, number_of_lines_of_context, tb_offset)\u001b[0m\n\u001b[1;32m    950\u001b[0m \u001b[38;5;28;01massert\u001b[39;00m \u001b[38;5;28misinstance\u001b[39m(tb_offset, \u001b[38;5;28mint\u001b[39m)\n\u001b[1;32m    951\u001b[0m head \u001b[38;5;241m=\u001b[39m \u001b[38;5;28mself\u001b[39m\u001b[38;5;241m.\u001b[39mprepare_header(etype, \u001b[38;5;28mself\u001b[39m\u001b[38;5;241m.\u001b[39mlong_header)\n\u001b[1;32m    952\u001b[0m records \u001b[38;5;241m=\u001b[39m (\n\u001b[0;32m--> 953\u001b[0m     \u001b[38;5;28mself\u001b[39m\u001b[38;5;241m.\u001b[39mget_records(etb, number_of_lines_of_context, tb_offset) \u001b[38;5;28;01mif\u001b[39;00m etb \u001b[38;5;28;01melse\u001b[39;00m []\n\u001b[1;32m    954\u001b[0m )\n\u001b[1;32m    956\u001b[0m frames \u001b[38;5;241m=\u001b[39m []\n\u001b[1;32m    957\u001b[0m skipped \u001b[38;5;241m=\u001b[39m \u001b[38;5;241m0\u001b[39m\n",
      "File \u001b[0;32m~/anaconda3/lib/python3.11/site-packages/IPython/core/ultratb.py:1021\u001b[0m, in \u001b[0;36mVerboseTB.get_records\u001b[0;34m(self, etb, number_of_lines_of_context, tb_offset)\u001b[0m\n\u001b[1;32m   1019\u001b[0m \u001b[38;5;28;01mwhile\u001b[39;00m cf \u001b[38;5;129;01mis\u001b[39;00m \u001b[38;5;129;01mnot\u001b[39;00m \u001b[38;5;28;01mNone\u001b[39;00m:\n\u001b[1;32m   1020\u001b[0m     \u001b[38;5;28;01mtry\u001b[39;00m:\n\u001b[0;32m-> 1021\u001b[0m         source_file \u001b[38;5;241m=\u001b[39m inspect\u001b[38;5;241m.\u001b[39mgetsourcefile(etb\u001b[38;5;241m.\u001b[39mtb_frame)\n\u001b[1;32m   1022\u001b[0m         lines, first \u001b[38;5;241m=\u001b[39m inspect\u001b[38;5;241m.\u001b[39mgetsourcelines(etb\u001b[38;5;241m.\u001b[39mtb_frame)\n\u001b[1;32m   1023\u001b[0m     \u001b[38;5;28;01mexcept\u001b[39;00m \u001b[38;5;167;01mOSError\u001b[39;00m:\n",
      "\u001b[0;31mAttributeError\u001b[0m: 'tuple' object has no attribute 'tb_frame'"
     ]
    }
   ],
   "source": [
    "import dash\n",
    "from dash import dcc, html\n",
    "import plotly.express as px\n",
    "import plotly.graph_objects as go\n",
    "\n",
    "# Top 10 Product Categories in PRH1 by Sales Channel\n",
    "top_prh1_categories = df['PRH1'].value_counts().nlargest(10).index\n",
    "filtered_df_prh1 = df[df['PRH1'].isin(top_prh1_categories)]\n",
    "grouped_data_prh1 = filtered_df_prh1.groupby(['sales_channel', 'PRH1']).size().reset_index(name='Frequency')\n",
    "grouped_data_prh1 = grouped_data_prh1.pivot(index='PRH1', columns='sales_channel', values='Frequency').fillna(0)\n",
    "grouped_data_prh1 = grouped_data_prh1.stack().reset_index(name='Frequency')\n",
    "\n",
    "category_comparison_fig = px.bar(grouped_data_prh1, x='PRH1', y='Frequency', color='sales_channel', barmode='group',\n",
    "                                 title='Comparison of Top 10 Product Categories in PRH1 by Sales Channel',\n",
    "                                 labels={'PRH1': 'Product Category', 'Frequency': 'Count'},\n",
    "                                 color_continuous_scale='Viridis')\n",
    "\n",
    "# Top 10 Product Sub-Categories in PRH4 by Sales Channel\n",
    "top_prh4_subcategories = df['PRH4'].value_counts().nlargest(10).index\n",
    "filtered_df_prh4 = df[df['PRH4'].isin(top_prh4_subcategories)]\n",
    "grouped_data_prh4 = filtered_df_prh4.groupby(['sales_channel', 'PRH4']).size().reset_index(name='Frequency')\n",
    "grouped_data_prh4 = grouped_data_prh4.pivot(index='PRH4', columns='sales_channel', values='Frequency').fillna(0)\n",
    "grouped_data_prh4 = grouped_data_prh4.stack().reset_index(name='Frequency')\n",
    "\n",
    "subcategory_comparison_fig = px.bar(grouped_data_prh4, x='PRH4', y='Frequency', color='sales_channel', barmode='group',\n",
    "                                    title='Comparison of Top 10 Product Sub-Categories in PRH4 by Sales Channel',\n",
    "                                    labels={'PRH4': 'Product Sub-Category', 'Frequency': 'Count'},\n",
    "                                    color_continuous_scale='Viridis')\n",
    "\n",
    "# Customer Group to Product Category (PRH1) Flow\n",
    "subset_df_prh1 = df[['customer_group', 'PRH1', 'order_material_net_value']]\n",
    "grouped_df_prh1 = subset_df_prh1.groupby(['customer_group', 'PRH1']).sum().reset_index()\n",
    "customer_groups_prh1 = grouped_df_prh1['customer_group'].unique().tolist()\n",
    "product_categories_prh1 = grouped_df_prh1['PRH1'].unique().tolist()\n",
    "labels_prh1 = customer_groups_prh1 + product_categories_prh1\n",
    "source_indices_prh1 = [labels_prh1.index(group) for group in grouped_df_prh1['customer_group']]\n",
    "target_indices_prh1 = [labels_prh1.index(category) for category in grouped_df_prh1['PRH1']]\n",
    "\n",
    "customer_category_sankey_fig = go.Figure(data=[go.Sankey(\n",
    "    node=dict(\n",
    "        pad=15,\n",
    "        thickness=20,\n",
    "        line=dict(color=\"black\", width=0.5),\n",
    "        label=labels_prh1,\n",
    "        color=\"blue\"\n",
    "    ),\n",
    "    link=dict(\n",
    "        source=source_indices_prh1,\n",
    "        target=target_indices_prh1,\n",
    "        value=grouped_df_prh1['order_material_net_value']\n",
    "    )\n",
    ")])\n",
    "\n",
    "customer_category_sankey_fig.update_layout(title_text=\"Customer Group to Product Category Flow\", font_size=10)\n",
    "\n",
    "# Customer Group to Product Sub-Category (PRH4) Flow\n",
    "subset_df_prh4 = df[['customer_group', 'PRH4', 'order_material_net_value']]\n",
    "grouped_df_prh4 = subset_df_prh4.groupby(['customer_group', 'PRH4']).sum().reset_index()\n",
    "customer_groups_prh4 = grouped_df_prh4['customer_group'].unique().tolist()\n",
    "product_categories_prh4 = grouped_df_prh4['PRH4'].unique().tolist()\n",
    "labels_prh4 = customer_groups_prh4 + product_categories_prh4\n",
    "source_indices_prh4 = [labels_prh4.index(group) for group in grouped_df_prh4['customer_group']]\n",
    "target_indices_prh4 = [labels_prh4.index(category) for category in grouped_df_prh4['PRH4']]\n",
    "\n",
    "customer_subcategory_sankey_fig = go.Figure(data=[go.Sankey(\n",
    "    node=dict(\n",
    "        pad=15,\n",
    "        thickness=20,\n",
    "        line=dict(color=\"black\", width=0.5),\n",
    "        label=labels_prh4,\n",
    "        color=\"blue\"\n",
    "    ),\n",
    "    link=dict(\n",
    "        source=source_indices_prh4,\n",
    "        target=target_indices_prh4,\n",
    "        value=grouped_df_prh4['order_material_net_value']\n",
    "    )\n",
    ")])\n",
    "\n",
    "customer_subcategory_sankey_fig.update_layout(title_text=\"Customer Group to Product Sub-Category Flow\", font_size=10)\n",
    "\n",
    "# Bubble Chart of Sales by Region and Product Category\n",
    "bubble_chart_data = df.groupby(['region', 'PRH1']).agg({'order_material_net_value': 'sum'}).reset_index()\n",
    "bubble_chart_fig = px.scatter(bubble_chart_data, x='PRH1', y='region', size='order_material_net_value', color='region',\n",
    "                              title='Sales by Region and Product Category',\n",
    "                              labels={'PRH1': 'Product Category', 'region': 'Region', 'order_material_net_value': 'Sales'})\n",
    "\n",
    "# Complex Pie Chart of Customer Groups\n",
    "top_customer_groups = df['customer_group'].value_counts().nlargest(5)\n",
    "other_groups = df['customer_group'].value_counts()[5:].sum()\n",
    "top_customer_groups['Other'] = other_groups\n",
    "pie_chart_fig = px.pie(values=top_customer_groups.values, names=top_customer_groups.index, title='Distribution of Top Customer Groups',\n",
    "                       color_discrete_sequence=px.colors.sequential.Viridis)\n",
    "\n",
    "app = dash.Dash(__name__)\n",
    "\n",
    "app.layout = html.Div([\n",
    "    html.Div([\n",
    "        dcc.Graph(figure=category_comparison_fig, id='category-comparison-graph'),\n",
    "        dcc.Graph(figure=subcategory_comparison_fig, id='subcategory-comparison-graph')\n",
    "    ], style={'display': 'flex', 'width': '100%'}),\n",
    "    html.Div([\n",
    "        dcc.Graph(figure=customer_category_sankey_fig, id='customer-category-sankey'),\n",
    "        dcc.Graph(figure=customer_subcategory_sankey_fig, id='customer-subcategory-sankey')\n",
    "    ], style={'display': 'flex', 'width': '100%'}),\n",
    "    html.Div([\n",
    "        dcc.Graph(figure=bubble_chart_fig, id='bubble-chart-graph'),\n",
    "        dcc.Graph(figure=pie_chart_fig, id='pie-chart-graph')\n",
    "    ], style={'display': 'flex', 'width': '100%'})\n",
    "])\n",
    "\n",
    "if __name__ == '__main__':\n",
    "    app.run_server(debug=True)\n"
   ]
  }
 ],
 "metadata": {
  "kernelspec": {
   "display_name": "Python 3 (ipykernel)",
   "language": "python",
   "name": "python3"
  },
  "language_info": {
   "codemirror_mode": {
    "name": "ipython",
    "version": 3
   },
   "file_extension": ".py",
   "mimetype": "text/x-python",
   "name": "python",
   "nbconvert_exporter": "python",
   "pygments_lexer": "ipython3",
   "version": "3.11.4"
  }
 },
 "nbformat": 4,
 "nbformat_minor": 5
}
