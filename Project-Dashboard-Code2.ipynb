{
 "cells": [
  {
   "cell_type": "code",
   "execution_count": null,
   "id": "0f8137a8",
   "metadata": {},
   "outputs": [],
   "source": [
    "import pandas as pd\n",
    "import numpy as np\n",
    "import matplotlib.pyplot as plt\n",
    "import matplotlib.dates as mdates\n",
    "import seaborn as sns\n",
    "import statsmodels.api as smf\n",
    "\n",
    "from sklearn.model_selection import train_test_split, cross_val_score\n",
    "from sklearn.preprocessing import LabelEncoder, StandardScaler\n",
    "from sklearn.metrics import classification_report, confusion_matrix, accuracy_score, silhouette_score, mean_squared_error, r2_score\n",
    "\n",
    "from sklearn import datasets, linear_model\n",
    "from sklearn.linear_model import LogisticRegression\n",
    "from sklearn.neighbors import KNeighborsClassifier\n",
    "from sklearn.tree import DecisionTreeClassifier, DecisionTreeRegressor\n",
    "from sklearn.ensemble import GradientBoostingClassifier, RandomForestClassifier\n",
    "from sklearn import svm\n",
    "from sklearn.neural_network import MLPClassifier\n",
    "\n",
    "import warnings\n",
    "warnings.filterwarnings('ignore')"
   ]
  },
  {
   "cell_type": "code",
   "execution_count": null,
   "id": "87323328",
   "metadata": {},
   "outputs": [],
   "source": [
    "eShop2022 = pd.read_csv('2022_eShop.csv')\n",
    "eShop2023 = pd.read_csv('2023_eShop.csv')\n",
    "eShop2024 = pd.read_csv('2024_eShop.csv')\n",
    "\n",
    "Non_eShop2022 = pd.read_csv('2022_non-eShop.csv')\n",
    "Non_eShop2023 = pd.read_csv('2023_non-eShop.csv')\n",
    "Non_eShop2024 = pd.read_csv('2024_non-eShop.csv')"
   ]
  },
  {
   "cell_type": "code",
   "execution_count": null,
   "id": "31bbe6af",
   "metadata": {},
   "outputs": [],
   "source": [
    "# Concat the 'df1', 'df2' and 'df3' dataframes and create single dataframe named as 'df'\n",
    "df = pd.concat([eShop2022,eShop2023,eShop2024,Non_eShop2022,Non_eShop2023,Non_eShop2024])\n",
    "df.head()"
   ]
  },
  {
   "cell_type": "markdown",
   "id": "216e144c",
   "metadata": {},
   "source": [
    "# Data Cleaning and Pre Processing:"
   ]
  },
  {
   "cell_type": "code",
   "execution_count": null,
   "id": "d186cedc",
   "metadata": {},
   "outputs": [],
   "source": [
    "# Check for data types:\n",
    "df.dtypes"
   ]
  },
  {
   "cell_type": "code",
   "execution_count": null,
   "id": "d78e3ce2",
   "metadata": {},
   "outputs": [],
   "source": [
    "# Correct Date Format:\n",
    "df['order_date'] = pd.to_datetime(df['order_date'], format='%Y-%m-%d')\n",
    "print(df['order_date'].dtype)"
   ]
  },
  {
   "cell_type": "code",
   "execution_count": null,
   "id": "befa733c",
   "metadata": {},
   "outputs": [],
   "source": [
    "# Detecting Missing Values\n",
    "df.isnull().sum()"
   ]
  },
  {
   "cell_type": "code",
   "execution_count": null,
   "id": "c634370f",
   "metadata": {},
   "outputs": [],
   "source": [
    "# Drop Missing Values:\n",
    "df = df.dropna()"
   ]
  },
  {
   "cell_type": "markdown",
   "id": "0005452f",
   "metadata": {},
   "source": [
    "# Dashboard"
   ]
  },
  {
   "cell_type": "code",
   "execution_count": null,
   "id": "590684fc",
   "metadata": {},
   "outputs": [],
   "source": [
    "import dash\n",
    "from dash import dcc, html\n",
    "import plotly.express as px\n",
    "import plotly.graph_objects as go\n",
    "\n",
    "# Top 10 Product Categories in PRH1 by Sales Channel\n",
    "top_prh1_categories = df['PRH1'].value_counts().nlargest(10).index\n",
    "filtered_df_prh1 = df[df['PRH1'].isin(top_prh1_categories)]\n",
    "grouped_data_prh1 = filtered_df_prh1.groupby(['sales_channel', 'PRH1']).size().reset_index(name='Frequency')\n",
    "grouped_data_prh1 = grouped_data_prh1.pivot(index='PRH1', columns='sales_channel', values='Frequency').fillna(0)\n",
    "grouped_data_prh1 = grouped_data_prh1.stack().reset_index(name='Frequency')\n",
    "\n",
    "category_comparison_fig = px.bar(grouped_data_prh1, x='PRH1', y='Frequency', color='sales_channel', barmode='group',\n",
    "                                 title='Comparison of Top 10 Product Categories in PRH1 by Sales Channel',\n",
    "                                 labels={'PRH1': 'Product Category', 'Frequency': 'Count'},\n",
    "                                 color_continuous_scale='Viridis')\n",
    "\n",
    "# Top 10 Product Sub-Categories in PRH4 by Sales Channel\n",
    "top_prh4_subcategories = df['PRH4'].value_counts().nlargest(10).index\n",
    "filtered_df_prh4 = df[df['PRH4'].isin(top_prh4_subcategories)]\n",
    "grouped_data_prh4 = filtered_df_prh4.groupby(['sales_channel', 'PRH4']).size().reset_index(name='Frequency')\n",
    "grouped_data_prh4 = grouped_data_prh4.pivot(index='PRH4', columns='sales_channel', values='Frequency').fillna(0)\n",
    "grouped_data_prh4 = grouped_data_prh4.stack().reset_index(name='Frequency')\n",
    "\n",
    "subcategory_comparison_fig = px.bar(grouped_data_prh4, x='PRH4', y='Frequency', color='sales_channel', barmode='group',\n",
    "                                    title='Comparison of Top 10 Product Sub-Categories in PRH4 by Sales Channel',\n",
    "                                    labels={'PRH4': 'Product Sub-Category', 'Frequency': 'Count'},\n",
    "                                    color_continuous_scale='Viridis')\n",
    "\n",
    "# Customer Group to Product Category (PRH1) Flow\n",
    "subset_df_prh1 = df[['customer_group', 'PRH1', 'order_material_net_value']]\n",
    "grouped_df_prh1 = subset_df_prh1.groupby(['customer_group', 'PRH1']).sum().reset_index()\n",
    "customer_groups_prh1 = grouped_df_prh1['customer_group'].unique().tolist()\n",
    "product_categories_prh1 = grouped_df_prh1['PRH1'].unique().tolist()\n",
    "labels_prh1 = customer_groups_prh1 + product_categories_prh1\n",
    "source_indices_prh1 = [labels_prh1.index(group) for group in grouped_df_prh1['customer_group']]\n",
    "target_indices_prh1 = [labels_prh1.index(category) for category in grouped_df_prh1['PRH1']]\n",
    "\n",
    "customer_category_sankey_fig = go.Figure(data=[go.Sankey(\n",
    "    node=dict(\n",
    "        pad=15,\n",
    "        thickness=20,\n",
    "        line=dict(color=\"black\", width=0.5),\n",
    "        label=labels_prh1,\n",
    "        color=\"blue\"\n",
    "    ),\n",
    "    link=dict(\n",
    "        source=source_indices_prh1,\n",
    "        target=target_indices_prh1,\n",
    "        value=grouped_df_prh1['order_material_net_value']\n",
    "    )\n",
    ")])\n",
    "\n",
    "customer_category_sankey_fig.update_layout(title_text=\"Customer Group to Product Category Flow\", font_size=10)\n",
    "\n",
    "# Customer Group to Product Sub-Category (PRH4) Flow\n",
    "subset_df_prh4 = df[['customer_group', 'PRH4', 'order_material_net_value']]\n",
    "grouped_df_prh4 = subset_df_prh4.groupby(['customer_group', 'PRH4']).sum().reset_index()\n",
    "customer_groups_prh4 = grouped_df_prh4['customer_group'].unique().tolist()\n",
    "product_categories_prh4 = grouped_df_prh4['PRH4'].unique().tolist()\n",
    "labels_prh4 = customer_groups_prh4 + product_categories_prh4\n",
    "source_indices_prh4 = [labels_prh4.index(group) for group in grouped_df_prh4['customer_group']]\n",
    "target_indices_prh4 = [labels_prh4.index(category) for category in grouped_df_prh4['PRH4']]\n",
    "\n",
    "customer_subcategory_sankey_fig = go.Figure(data=[go.Sankey(\n",
    "    node=dict(\n",
    "        pad=15,\n",
    "        thickness=20,\n",
    "        line=dict(color=\"black\", width=0.5),\n",
    "        label=labels_prh4,\n",
    "        color=\"blue\"\n",
    "    ),\n",
    "    link=dict(\n",
    "        source=source_indices_prh4,\n",
    "        target=target_indices_prh4,\n",
    "        value=grouped_df_prh4['order_material_net_value']\n",
    "    )\n",
    ")])\n",
    "\n",
    "customer_subcategory_sankey_fig.update_layout(title_text=\"Customer Group to Product Sub-Category Flow\", font_size=10)\n",
    "\n",
    "# Bubble Chart of Sales by Region and Product Category\n",
    "bubble_chart_data = df.groupby(['region', 'PRH1']).agg({'order_material_net_value': 'sum'}).reset_index()\n",
    "bubble_chart_fig = px.scatter(bubble_chart_data, x='PRH1', y='region', size='order_material_net_value', color='region',\n",
    "                              title='Sales by Region and Product Category',\n",
    "                              labels={'PRH1': 'Product Category', 'region': 'Region', 'order_material_net_value': 'Sales'})\n",
    "\n",
    "# Complex Pie Chart of Customer Groups\n",
    "top_customer_groups = df['customer_group'].value_counts().nlargest(5)\n",
    "other_groups = df['customer_group'].value_counts()[5:].sum()\n",
    "top_customer_groups['Other'] = other_groups\n",
    "pie_chart_fig = px.pie(values=top_customer_groups.values, names=top_customer_groups.index, title='Distribution of Top Customer Groups',\n",
    "                       color_discrete_sequence=px.colors.sequential.Viridis)\n",
    "\n",
    "app = dash.Dash(__name__)\n",
    "\n",
    "app.layout = html.Div([\n",
    "    html.Div([\n",
    "        dcc.Graph(figure=category_comparison_fig, id='category-comparison-graph'),\n",
    "        dcc.Graph(figure=subcategory_comparison_fig, id='subcategory-comparison-graph')\n",
    "    ], style={'display': 'flex', 'width': '100%'}),\n",
    "    html.Div([\n",
    "        dcc.Graph(figure=customer_category_sankey_fig, id='customer-category-sankey'),\n",
    "        dcc.Graph(figure=customer_subcategory_sankey_fig, id='customer-subcategory-sankey')\n",
    "    ], style={'display': 'flex', 'width': '100%'}),\n",
    "    html.Div([\n",
    "        dcc.Graph(figure=bubble_chart_fig, id='bubble-chart-graph'),\n",
    "        dcc.Graph(figure=pie_chart_fig, id='pie-chart-graph')\n",
    "    ], style={'display': 'flex', 'width': '100%'})\n",
    "])\n",
    "    \n",
    "if __name__ == '__main__':\n",
    "    app.run_server(debug=True, host='127.0.0.1', port=8080)\n"
   ]
  },
  {
   "cell_type": "code",
   "execution_count": null,
   "id": "f5f86c08",
   "metadata": {},
   "outputs": [],
   "source": [
    "# pip install --upgrade dash flask werkzeug"
   ]
  },
  {
   "cell_type": "code",
   "execution_count": null,
   "id": "0162824a",
   "metadata": {},
   "outputs": [],
   "source": [
    "# !pip install --upgrade dash"
   ]
  },
  {
   "cell_type": "code",
   "execution_count": null,
   "id": "fea69ed5",
   "metadata": {},
   "outputs": [],
   "source": []
  },
  {
   "cell_type": "code",
   "execution_count": null,
   "id": "1c601b28",
   "metadata": {},
   "outputs": [],
   "source": []
  }
 ],
 "metadata": {
  "kernelspec": {
   "display_name": "Python 3 (ipykernel)",
   "language": "python",
   "name": "python3"
  },
  "language_info": {
   "codemirror_mode": {
    "name": "ipython",
    "version": 3
   },
   "file_extension": ".py",
   "mimetype": "text/x-python",
   "name": "python",
   "nbconvert_exporter": "python",
   "pygments_lexer": "ipython3",
   "version": "3.11.4"
  }
 },
 "nbformat": 4,
 "nbformat_minor": 5
}
